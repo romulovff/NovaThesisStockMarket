{
 "cells": [
  {
   "cell_type": "markdown",
   "metadata": {},
   "source": [
    "<h1>Thesis Project</h1>"
   ]
  },
  {
   "cell_type": "markdown",
   "metadata": {},
   "source": [
    "<h3>Data Acquisition & Preprocessing</h3>"
   ]
  },
  {
   "cell_type": "code",
   "execution_count": 1,
   "metadata": {},
   "outputs": [],
   "source": [
    "import pandas as pd\n",
    "import numpy as np\n",
    "from bs4 import BeautifulSoup\n",
    "import matplotlib.pyplot as plt\n",
    "import mplfinance as mpf\n",
    "from pandas_datareader import data\n",
    "import matplotlib.dates as mdates\n",
    "import seaborn as sns\n",
    "import yfinance as yf\n",
    "import pandas_datareader as web\n",
    "from sklearn.preprocessing import MinMaxScaler\n",
    "from sklearn.preprocessing import StandardScaler\n",
    "from sklearn import svm\n",
    "from sklearn.model_selection import train_test_split\n",
    "from sklearn import preprocessing\n",
    "from sklearn.metrics import r2_score, f1_score, accuracy_score, confusion_matrix, plot_confusion_matrix, precision_score\n",
    "from sklearn.metrics import mean_absolute_error, roc_curve, auc\n",
    "from sklearn.metrics import mean_squared_error\n",
    "import math\n",
    "from sklearn import tree\n",
    "from sklearn.model_selection import GridSearchCV\n",
    "import time\n",
    "from sklearn.kernel_ridge import KernelRidge\n",
    "from sklearn.ensemble import RandomForestRegressor\n",
    "from sklearn import linear_model\n",
    "import requests\n",
    "import plotly.express as px\n",
    "import plotly.graph_objects as go"
   ]
  },
  {
   "cell_type": "code",
   "execution_count": 2,
   "metadata": {},
   "outputs": [
    {
     "data": {
      "text/plain": [
       "'microsoft = web.DataReader(\\'MSFT\\', data_source=\\'yahoo\\', start=\"2018-01-01\", end=\"2018-12-31\")\\namazon = web.DataReader(\\'AMZN\\', data_source=\\'yahoo\\', start=\"2018-01-01\", end=\"2018-12-31\")\\ntesla = web.DataReader(\\'TSLA\\', data_source=\\'yahoo\\', start=\"2018-01-01\", end=\"2018-12-31\")\\nalphabet_a = web.DataReader(\\'GOOGL\\', data_source=\\'yahoo\\', start=\"2018-01-01\", end=\"2018-12-31\")\\nalphabet_c = web.DataReader(\\'GOOG\\', data_source=\\'yahoo\\', start=\"2018-01-01\", end=\"2018-12-31\")\\nunitedhealth = web.DataReader(\\'UNH\\', data_source=\\'yahoo\\', start=\"2018-01-01\", end=\"2018-12-31\")\\njohnsonjohnson = web.DataReader(\\'JNJ\\', data_source=\\'yahoo\\', start=\"2018-01-01\", end=\"2018-12-31\")\\nexxon = web.DataReader(\\'XOM\\', data_source=\\'yahoo\\', start=\"2018-01-01\", end=\"2018-12-31\")\\njpmorgan = web.DataReader(\\'JPM\\', data_source=\\'yahoo\\', start=\"2018-01-01\", end=\"2018-12-31\")\\nmeta = web.DataReader(\\'META\\', data_source=\\'yahoo\\', start=\"2018-01-01\", end=\"2018-12-31\")\\npg = web.DataReader(\\'PG\\', data_source=\\'yahoo\\', start=\"2018-01-01\", end=\"2018-12-31\")\\nnvidia = web.DataReader(\\'NVDA\\', data_source=\\'yahoo\\', start=\"2018-01-01\", end=\"2018-12-31\")\\nvisa = web.DataReader(\\'V\\', data_source=\\'yahoo\\', start=\"2018-01-01\", end=\"2018-12-31\")\\nhomedepot = web.DataReader(\\'HD\\', data_source=\\'yahoo\\', start=\"2018-01-01\", end=\"2018-12-31\")\\nchevron = web.DataReader(\\'CVX\\', data_source=\\'yahoo\\', start=\"2018-01-01\", end=\"2018-12-31\")\\nmastercard = web.DataReader(\\'MA\\', data_source=\\'yahoo\\', start=\"2018-01-01\", end=\"2018-12-31\")\\npfizer = web.DataReader(\\'PFE\\', data_source=\\'yahoo\\', start=\"2018-01-01\", end=\"2018-12-31\")\\nabbvie = web.DataReader(\\'ABBV\\', data_source=\\'yahoo\\', start=\"2018-01-01\", end=\"2018-12-31\")\\nelililly = web.DataReader(\\'LLY\\', data_source=\\'yahoo\\', start=\"2018-01-01\", end=\"2018-12-31\")'"
      ]
     },
     "execution_count": 2,
     "metadata": {},
     "output_type": "execute_result"
    }
   ],
   "source": [
    "def data_acquisition(stocks=[\"AAPL\", \"^GSPC\"], start_date=\"2018-01-01\", end_date=\"2019-12-31\"):\n",
    "    all_stocks_scaled = []\n",
    "\n",
    "    for stock in stocks:\n",
    "        response = web.DataReader(stock, data_source='yahoo', start=start_date, end=end_date)\n",
    "\n",
    "        scaler = preprocessing.MinMaxScaler(feature_range=(0,100))\n",
    "        names = response.columns\n",
    "        stock_scaled = scaler.fit_transform(response)\n",
    "        stock_scaled_df = pd.DataFrame(stock_scaled, columns=names)\n",
    "\n",
    "        all_stocks_scaled.append(stock_scaled_df)\n",
    "    \n",
    "    return all_stocks_scaled\n",
    "\n",
    "\"\"\"microsoft = web.DataReader('MSFT', data_source='yahoo', start=\"2018-01-01\", end=\"2018-12-31\")\n",
    "amazon = web.DataReader('AMZN', data_source='yahoo', start=\"2018-01-01\", end=\"2018-12-31\")\n",
    "tesla = web.DataReader('TSLA', data_source='yahoo', start=\"2018-01-01\", end=\"2018-12-31\")\n",
    "alphabet_a = web.DataReader('GOOGL', data_source='yahoo', start=\"2018-01-01\", end=\"2018-12-31\")\n",
    "alphabet_c = web.DataReader('GOOG', data_source='yahoo', start=\"2018-01-01\", end=\"2018-12-31\")\n",
    "unitedhealth = web.DataReader('UNH', data_source='yahoo', start=\"2018-01-01\", end=\"2018-12-31\")\n",
    "johnsonjohnson = web.DataReader('JNJ', data_source='yahoo', start=\"2018-01-01\", end=\"2018-12-31\")\n",
    "exxon = web.DataReader('XOM', data_source='yahoo', start=\"2018-01-01\", end=\"2018-12-31\")\n",
    "jpmorgan = web.DataReader('JPM', data_source='yahoo', start=\"2018-01-01\", end=\"2018-12-31\")\n",
    "meta = web.DataReader('META', data_source='yahoo', start=\"2018-01-01\", end=\"2018-12-31\")\n",
    "pg = web.DataReader('PG', data_source='yahoo', start=\"2018-01-01\", end=\"2018-12-31\")\n",
    "nvidia = web.DataReader('NVDA', data_source='yahoo', start=\"2018-01-01\", end=\"2018-12-31\")\n",
    "visa = web.DataReader('V', data_source='yahoo', start=\"2018-01-01\", end=\"2018-12-31\")\n",
    "homedepot = web.DataReader('HD', data_source='yahoo', start=\"2018-01-01\", end=\"2018-12-31\")\n",
    "chevron = web.DataReader('CVX', data_source='yahoo', start=\"2018-01-01\", end=\"2018-12-31\")\n",
    "mastercard = web.DataReader('MA', data_source='yahoo', start=\"2018-01-01\", end=\"2018-12-31\")\n",
    "pfizer = web.DataReader('PFE', data_source='yahoo', start=\"2018-01-01\", end=\"2018-12-31\")\n",
    "abbvie = web.DataReader('ABBV', data_source='yahoo', start=\"2018-01-01\", end=\"2018-12-31\")\n",
    "elililly = web.DataReader('LLY', data_source='yahoo', start=\"2018-01-01\", end=\"2018-12-31\")\"\"\""
   ]
  },
  {
   "cell_type": "code",
   "execution_count": 3,
   "metadata": {},
   "outputs": [],
   "source": [
    "stocks = data_acquisition()"
   ]
  },
  {
   "cell_type": "code",
   "execution_count": 4,
   "metadata": {},
   "outputs": [
    {
     "data": {
      "text/plain": [
       "'stocks = [\\n    apple,\\n    microsoft,\\n    amazon,\\n    tesla,\\n    alphabet_a,\\n    alphabet_c,\\n    unitedhealth,\\n    johnsonjohnson,\\n    exxon,\\n    jpmorgan,\\n    meta,\\n    pg,\\n    nvidia,\\n    visa,\\n    homedepot,\\n    chevron,\\n    mastercard,\\n    pfizer,\\n    abbvie,\\n    elililly\\n]'"
      ]
     },
     "execution_count": 4,
     "metadata": {},
     "output_type": "execute_result"
    }
   ],
   "source": [
    "\"\"\"stocks = [\n",
    "    apple,\n",
    "    microsoft,\n",
    "    amazon,\n",
    "    tesla,\n",
    "    alphabet_a,\n",
    "    alphabet_c,\n",
    "    unitedhealth,\n",
    "    johnsonjohnson,\n",
    "    exxon,\n",
    "    jpmorgan,\n",
    "    meta,\n",
    "    pg,\n",
    "    nvidia,\n",
    "    visa,\n",
    "    homedepot,\n",
    "    chevron,\n",
    "    mastercard,\n",
    "    pfizer,\n",
    "    abbvie,\n",
    "    elililly\n",
    "]\"\"\""
   ]
  },
  {
   "cell_type": "code",
   "execution_count": 5,
   "metadata": {},
   "outputs": [
    {
     "data": {
      "text/html": [
       "<div>\n",
       "<style scoped>\n",
       "    .dataframe tbody tr th:only-of-type {\n",
       "        vertical-align: middle;\n",
       "    }\n",
       "\n",
       "    .dataframe tbody tr th {\n",
       "        vertical-align: top;\n",
       "    }\n",
       "\n",
       "    .dataframe thead th {\n",
       "        text-align: right;\n",
       "    }\n",
       "</style>\n",
       "<table border=\"1\" class=\"dataframe\">\n",
       "  <thead>\n",
       "    <tr style=\"text-align: right;\">\n",
       "      <th></th>\n",
       "      <th>High</th>\n",
       "      <th>Low</th>\n",
       "      <th>Open</th>\n",
       "      <th>Close</th>\n",
       "      <th>Volume</th>\n",
       "      <th>Adj Close</th>\n",
       "    </tr>\n",
       "  </thead>\n",
       "  <tbody>\n",
       "    <tr>\n",
       "      <th>0</th>\n",
       "      <td>17.929175</td>\n",
       "      <td>18.478848</td>\n",
       "      <td>17.792584</td>\n",
       "      <td>19.853423</td>\n",
       "      <td>16.721388</td>\n",
       "      <td>17.656835</td>\n",
       "    </tr>\n",
       "    <tr>\n",
       "      <th>1</th>\n",
       "      <td>19.446882</td>\n",
       "      <td>20.309117</td>\n",
       "      <td>19.403292</td>\n",
       "      <td>19.833616</td>\n",
       "      <td>21.388896</td>\n",
       "      <td>17.637870</td>\n",
       "    </tr>\n",
       "    <tr>\n",
       "      <th>2</th>\n",
       "      <td>18.718381</td>\n",
       "      <td>20.390458</td>\n",
       "      <td>19.410084</td>\n",
       "      <td>20.361810</td>\n",
       "      <td>13.044282</td>\n",
       "      <td>18.143538</td>\n",
       "    </tr>\n",
       "    <tr>\n",
       "      <th>3</th>\n",
       "      <td>19.999996</td>\n",
       "      <td>21.047997</td>\n",
       "      <td>20.021753</td>\n",
       "      <td>21.662485</td>\n",
       "      <td>14.487888</td>\n",
       "      <td>19.388715</td>\n",
       "    </tr>\n",
       "    <tr>\n",
       "      <th>4</th>\n",
       "      <td>20.161888</td>\n",
       "      <td>21.644519</td>\n",
       "      <td>20.640214</td>\n",
       "      <td>21.233333</td>\n",
       "      <td>10.845064</td>\n",
       "      <td>18.977865</td>\n",
       "    </tr>\n",
       "  </tbody>\n",
       "</table>\n",
       "</div>"
      ],
      "text/plain": [
       "        High        Low       Open      Close     Volume  Adj Close\n",
       "0  17.929175  18.478848  17.792584  19.853423  16.721388  17.656835\n",
       "1  19.446882  20.309117  19.403292  19.833616  21.388896  17.637870\n",
       "2  18.718381  20.390458  19.410084  20.361810  13.044282  18.143538\n",
       "3  19.999996  21.047997  20.021753  21.662485  14.487888  19.388715\n",
       "4  20.161888  21.644519  20.640214  21.233333  10.845064  18.977865"
      ]
     },
     "execution_count": 5,
     "metadata": {},
     "output_type": "execute_result"
    }
   ],
   "source": [
    "stocks[0].head()"
   ]
  },
  {
   "cell_type": "code",
   "execution_count": 6,
   "metadata": {},
   "outputs": [],
   "source": [
    "def calculate_lines():\n",
    "    for stock in stocks:\n",
    "        stock[\"ShortEMA\"] = stock[\"Close\"].ewm(span = 12, adjust = False).mean()\n",
    "        stock[\"LongEMA\"] = stock[\"Close\"].ewm(span = 26, adjust = False).mean()\n",
    "        stock[\"MACD\"] = stock[\"ShortEMA\"] - stock[\"LongEMA\"]\n",
    "        stock[\"Signal\"] = stock[\"MACD\"].ewm(span = 9, adjust = False).mean()\n",
    "        stock[\"TypicalPrice\"] = (stock[\"High\"] + stock[\"Low\"] + stock[\"Close\"]) / 3\n",
    "        stock[\"MA\"] = stock[\"TypicalPrice\"].rolling(20).mean()\n",
    "        stock[\"MeanDeviation\"] = (abs(stock[\"TypicalPrice\"] - stock[\"MA\"])).rolling(20).mean()\n",
    "        stock[\"CCI\"] = (stock[\"TypicalPrice\"] - stock[\"MA\"]) / (0.015 * stock[\"MeanDeviation\"])\n",
    "        "
   ]
  },
  {
   "cell_type": "code",
   "execution_count": 7,
   "metadata": {},
   "outputs": [],
   "source": [
    "calculate_lines()"
   ]
  },
  {
   "cell_type": "code",
   "execution_count": 8,
   "metadata": {},
   "outputs": [],
   "source": [
    "def calculate_bollinger_bands():\n",
    "    for stock in stocks:\n",
    "        stock[\"30_MA\"] = stock[\"Close\"].rolling(window=20).mean()\n",
    "        stock[\"30_STD\"] = stock[\"Close\"].rolling(window=20).std()\n",
    "        stock[\"UpperBollinger\"] = stock[\"30_MA\"] + 2 * stock[\"30_STD\"]\n",
    "        stock[\"LowerBollinger\"] = stock[\"30_MA\"] - 2 * stock[\"30_STD\"]\n",
    "        stock[\"DifferenceUpper\"] = stock[\"UpperBollinger\"] - stock[\"Close\"]\n",
    "        stock[\"DifferenceLower\"] = stock[\"LowerBollinger\"] - stock[\"Close\"]"
   ]
  },
  {
   "cell_type": "code",
   "execution_count": 9,
   "metadata": {},
   "outputs": [],
   "source": [
    "calculate_bollinger_bands()"
   ]
  },
  {
   "cell_type": "code",
   "execution_count": 10,
   "metadata": {},
   "outputs": [],
   "source": [
    "def upOrDown():\n",
    "    for stock in stocks:\n",
    "        stock[\"UpDown\"] = stock[\"Close\"].diff()\n",
    "        stock[\"UpDown\"] = stock[\"UpDown\"].apply(lambda x: 1 if x >= 0 else 0)\n",
    "\n",
    "def upOrDownNpArray(array):\n",
    "    difference = np.diff(array)\n",
    "    diffReturn = []\n",
    "    for i in difference:\n",
    "        if i >= 0:\n",
    "            diffReturn.append(1)\n",
    "        else:\n",
    "            diffReturn.append(0)\n",
    "    return np.array(diffReturn)\n",
    "\n",
    "def upOrDownStock(stock):\n",
    "    stock[\"UpDown\"] = stock[\"Close\"].diff();\n",
    "    stock[\"UpDown\"] = stock[\"UpDown\"].apply(lambda x: 1 if x >= 0 else 0)"
   ]
  },
  {
   "cell_type": "code",
   "execution_count": 11,
   "metadata": {},
   "outputs": [],
   "source": [
    "upOrDown()"
   ]
  },
  {
   "cell_type": "code",
   "execution_count": 12,
   "metadata": {},
   "outputs": [],
   "source": [
    "def calculate_RSI(window=14):\n",
    "    for stock in stocks:\n",
    "        delta = stock[\"Close\"].diff()\n",
    "        up_days = delta.copy()\n",
    "        up_days[delta<=0]=0.0\n",
    "        down_days = abs(delta.copy())\n",
    "        down_days[delta>0]=0.0\n",
    "        RS_up = up_days.rolling(window).mean()\n",
    "        RS_down = down_days.rolling(window).mean()\n",
    "        rsi= 100-100/(1+RS_up/RS_down)\n",
    "        stock[\"RSI\"] = rsi"
   ]
  },
  {
   "cell_type": "code",
   "execution_count": 13,
   "metadata": {},
   "outputs": [],
   "source": [
    "calculate_RSI()"
   ]
  },
  {
   "cell_type": "code",
   "execution_count": 14,
   "metadata": {},
   "outputs": [],
   "source": [
    "def calculate_stochastic_oscillator(window=14):\n",
    "    for stock in stocks:\n",
    "        nHigh = stock[\"High\"].rolling(window).max()\n",
    "        nLow = stock[\"Low\"].rolling(window).min()\n",
    "        stock[\"StochasticOscillator\"] = ((stock[\"Close\"] - nLow) / (nHigh - nLow)) * 100"
   ]
  },
  {
   "cell_type": "code",
   "execution_count": 15,
   "metadata": {},
   "outputs": [],
   "source": [
    "calculate_stochastic_oscillator()"
   ]
  },
  {
   "cell_type": "code",
   "execution_count": 16,
   "metadata": {},
   "outputs": [
    {
     "data": {
      "text/html": [
       "<div>\n",
       "<style scoped>\n",
       "    .dataframe tbody tr th:only-of-type {\n",
       "        vertical-align: middle;\n",
       "    }\n",
       "\n",
       "    .dataframe tbody tr th {\n",
       "        vertical-align: top;\n",
       "    }\n",
       "\n",
       "    .dataframe thead th {\n",
       "        text-align: right;\n",
       "    }\n",
       "</style>\n",
       "<table border=\"1\" class=\"dataframe\">\n",
       "  <thead>\n",
       "    <tr style=\"text-align: right;\">\n",
       "      <th></th>\n",
       "      <th>High</th>\n",
       "      <th>Low</th>\n",
       "      <th>Open</th>\n",
       "      <th>Close</th>\n",
       "      <th>Volume</th>\n",
       "      <th>Adj Close</th>\n",
       "      <th>ShortEMA</th>\n",
       "      <th>LongEMA</th>\n",
       "      <th>MACD</th>\n",
       "      <th>Signal</th>\n",
       "      <th>...</th>\n",
       "      <th>CCI</th>\n",
       "      <th>30_MA</th>\n",
       "      <th>30_STD</th>\n",
       "      <th>UpperBollinger</th>\n",
       "      <th>LowerBollinger</th>\n",
       "      <th>DifferenceUpper</th>\n",
       "      <th>DifferenceLower</th>\n",
       "      <th>UpDown</th>\n",
       "      <th>RSI</th>\n",
       "      <th>StochasticOscillator</th>\n",
       "    </tr>\n",
       "  </thead>\n",
       "  <tbody>\n",
       "    <tr>\n",
       "      <th>0</th>\n",
       "      <td>17.929175</td>\n",
       "      <td>18.478848</td>\n",
       "      <td>17.792584</td>\n",
       "      <td>19.853423</td>\n",
       "      <td>16.721388</td>\n",
       "      <td>17.656835</td>\n",
       "      <td>19.853423</td>\n",
       "      <td>19.853423</td>\n",
       "      <td>0.000000</td>\n",
       "      <td>0.000000</td>\n",
       "      <td>...</td>\n",
       "      <td>NaN</td>\n",
       "      <td>NaN</td>\n",
       "      <td>NaN</td>\n",
       "      <td>NaN</td>\n",
       "      <td>NaN</td>\n",
       "      <td>NaN</td>\n",
       "      <td>NaN</td>\n",
       "      <td>0</td>\n",
       "      <td>NaN</td>\n",
       "      <td>NaN</td>\n",
       "    </tr>\n",
       "    <tr>\n",
       "      <th>1</th>\n",
       "      <td>19.446882</td>\n",
       "      <td>20.309117</td>\n",
       "      <td>19.403292</td>\n",
       "      <td>19.833616</td>\n",
       "      <td>21.388896</td>\n",
       "      <td>17.637870</td>\n",
       "      <td>19.850375</td>\n",
       "      <td>19.851955</td>\n",
       "      <td>-0.001580</td>\n",
       "      <td>-0.000316</td>\n",
       "      <td>...</td>\n",
       "      <td>NaN</td>\n",
       "      <td>NaN</td>\n",
       "      <td>NaN</td>\n",
       "      <td>NaN</td>\n",
       "      <td>NaN</td>\n",
       "      <td>NaN</td>\n",
       "      <td>NaN</td>\n",
       "      <td>0</td>\n",
       "      <td>NaN</td>\n",
       "      <td>NaN</td>\n",
       "    </tr>\n",
       "    <tr>\n",
       "      <th>2</th>\n",
       "      <td>18.718381</td>\n",
       "      <td>20.390458</td>\n",
       "      <td>19.410084</td>\n",
       "      <td>20.361810</td>\n",
       "      <td>13.044282</td>\n",
       "      <td>18.143538</td>\n",
       "      <td>19.929058</td>\n",
       "      <td>19.889722</td>\n",
       "      <td>0.039335</td>\n",
       "      <td>0.007614</td>\n",
       "      <td>...</td>\n",
       "      <td>NaN</td>\n",
       "      <td>NaN</td>\n",
       "      <td>NaN</td>\n",
       "      <td>NaN</td>\n",
       "      <td>NaN</td>\n",
       "      <td>NaN</td>\n",
       "      <td>NaN</td>\n",
       "      <td>1</td>\n",
       "      <td>NaN</td>\n",
       "      <td>NaN</td>\n",
       "    </tr>\n",
       "    <tr>\n",
       "      <th>3</th>\n",
       "      <td>19.999996</td>\n",
       "      <td>21.047997</td>\n",
       "      <td>20.021753</td>\n",
       "      <td>21.662485</td>\n",
       "      <td>14.487888</td>\n",
       "      <td>19.388715</td>\n",
       "      <td>20.195739</td>\n",
       "      <td>20.021038</td>\n",
       "      <td>0.174701</td>\n",
       "      <td>0.041032</td>\n",
       "      <td>...</td>\n",
       "      <td>NaN</td>\n",
       "      <td>NaN</td>\n",
       "      <td>NaN</td>\n",
       "      <td>NaN</td>\n",
       "      <td>NaN</td>\n",
       "      <td>NaN</td>\n",
       "      <td>NaN</td>\n",
       "      <td>1</td>\n",
       "      <td>NaN</td>\n",
       "      <td>NaN</td>\n",
       "    </tr>\n",
       "    <tr>\n",
       "      <th>4</th>\n",
       "      <td>20.161888</td>\n",
       "      <td>21.644519</td>\n",
       "      <td>20.640214</td>\n",
       "      <td>21.233333</td>\n",
       "      <td>10.845064</td>\n",
       "      <td>18.977865</td>\n",
       "      <td>20.355369</td>\n",
       "      <td>20.110838</td>\n",
       "      <td>0.244531</td>\n",
       "      <td>0.081731</td>\n",
       "      <td>...</td>\n",
       "      <td>NaN</td>\n",
       "      <td>NaN</td>\n",
       "      <td>NaN</td>\n",
       "      <td>NaN</td>\n",
       "      <td>NaN</td>\n",
       "      <td>NaN</td>\n",
       "      <td>NaN</td>\n",
       "      <td>0</td>\n",
       "      <td>NaN</td>\n",
       "      <td>NaN</td>\n",
       "    </tr>\n",
       "  </tbody>\n",
       "</table>\n",
       "<p>5 rows × 23 columns</p>\n",
       "</div>"
      ],
      "text/plain": [
       "        High        Low       Open      Close     Volume  Adj Close  \\\n",
       "0  17.929175  18.478848  17.792584  19.853423  16.721388  17.656835   \n",
       "1  19.446882  20.309117  19.403292  19.833616  21.388896  17.637870   \n",
       "2  18.718381  20.390458  19.410084  20.361810  13.044282  18.143538   \n",
       "3  19.999996  21.047997  20.021753  21.662485  14.487888  19.388715   \n",
       "4  20.161888  21.644519  20.640214  21.233333  10.845064  18.977865   \n",
       "\n",
       "    ShortEMA    LongEMA      MACD    Signal  ...  CCI  30_MA  30_STD  \\\n",
       "0  19.853423  19.853423  0.000000  0.000000  ...  NaN    NaN     NaN   \n",
       "1  19.850375  19.851955 -0.001580 -0.000316  ...  NaN    NaN     NaN   \n",
       "2  19.929058  19.889722  0.039335  0.007614  ...  NaN    NaN     NaN   \n",
       "3  20.195739  20.021038  0.174701  0.041032  ...  NaN    NaN     NaN   \n",
       "4  20.355369  20.110838  0.244531  0.081731  ...  NaN    NaN     NaN   \n",
       "\n",
       "   UpperBollinger  LowerBollinger  DifferenceUpper  DifferenceLower  UpDown  \\\n",
       "0             NaN             NaN              NaN              NaN       0   \n",
       "1             NaN             NaN              NaN              NaN       0   \n",
       "2             NaN             NaN              NaN              NaN       1   \n",
       "3             NaN             NaN              NaN              NaN       1   \n",
       "4             NaN             NaN              NaN              NaN       0   \n",
       "\n",
       "   RSI  StochasticOscillator  \n",
       "0  NaN                   NaN  \n",
       "1  NaN                   NaN  \n",
       "2  NaN                   NaN  \n",
       "3  NaN                   NaN  \n",
       "4  NaN                   NaN  \n",
       "\n",
       "[5 rows x 23 columns]"
      ]
     },
     "execution_count": 16,
     "metadata": {},
     "output_type": "execute_result"
    }
   ],
   "source": [
    "stocks[0].head()"
   ]
  },
  {
   "cell_type": "code",
   "execution_count": 17,
   "metadata": {},
   "outputs": [],
   "source": [
    "def show_corr_matrix(stock):\n",
    "    corrMatrix = stock[[\"Close\", \"RSI\", \"UpperBollinger\", \"LowerBollinger\", \"DifferenceUpper\", \"DifferenceLower\", \"StochasticOscillator\", \"ShortEMA\", \"LongEMA\", \"MACD\", \"CCI\"]].corr()\n",
    "\n",
    "\n",
    "    plt.figure(figsize = (10,10))\n",
    "    sns.heatmap(corrMatrix, cmap='RdYlGn', center=0, annot=True)\n",
    "    plt.show()"
   ]
  },
  {
   "cell_type": "code",
   "execution_count": 18,
   "metadata": {},
   "outputs": [
    {
     "data": {
      "image/png": "[encoded data removed]",
      "text/plain": [
       "<Figure size 720x720 with 2 Axes>"
      ]
     },
     "metadata": {
      "needs_background": "light"
     },
     "output_type": "display_data"
    }
   ],
   "source": [
    "show_corr_matrix(stocks[1])"
   ]
  },
  {
   "cell_type": "markdown",
   "metadata": {},
   "source": [
    "<h1>Ensemble Algorithms</h1>"
   ]
  },
  {
   "cell_type": "markdown",
   "metadata": {},
   "source": [
    "<h3>XGBoost Model</h3>"
   ]
  },
  {
   "cell_type": "code",
   "execution_count": 19,
   "metadata": {},
   "outputs": [],
   "source": [
    "from sklearn import ensemble\n",
    "\n",
    "def predict_xgboost(stock, feature='close', day_threshold=5):\n",
    "    if feature == 'close':\n",
    "        stockX = stock[[\"Close\", \"RSI\", \"UpperBollinger\", \"LowerBollinger\", \"DifferenceUpper\", \"DifferenceLower\", \"StochasticOscillator\", \"ShortEMA\", \"MACD\", \"CCI\"]][40:]\n",
    "        stockY = stock[\"Close\"][40:]\n",
    "\n",
    "        X = np.array(stockX)\n",
    "        y = np.array(stockY)\n",
    "        X = X[:-day_threshold]\n",
    "        y = y[day_threshold:]\n",
    "\n",
    "        X_train, X_test, y_train, y_test = train_test_split(X, y, random_state=42, shuffle=False)\n",
    "\n",
    "        \"\"\"\n",
    "            Gotta do some kind of random/grid search\n",
    "        \"\"\"\n",
    "\n",
    "        params = {\n",
    "            \"n_estimators\": 500,\n",
    "            \"max_depth\": 4,\n",
    "            \"min_samples_split\": 5,\n",
    "            \"learning_rate\": 0.01,\n",
    "            \"loss\": \"squared_error\",\n",
    "        }\n",
    "\n",
    "        reg = ensemble.GradientBoostingRegressor(**params)\n",
    "        reg.fit(X_train, y_train)\n",
    "\n",
    "        y_pred = reg.predict(X_test)\n",
    "\n",
    "        return y_pred, y_test, y_train"
   ]
  },
  {
   "cell_type": "markdown",
   "metadata": {},
   "source": [
    "<h1>Regression Algorithms</h1>"
   ]
  },
  {
   "cell_type": "markdown",
   "metadata": {},
   "source": [
    "<h3>Kernel Ridge Regression Model</h3>"
   ]
  },
  {
   "cell_type": "code",
   "execution_count": 20,
   "metadata": {},
   "outputs": [],
   "source": [
    "def predict_kernel_ridge(stock, feature='close', day_threshold=5):\n",
    "    stockX = stock[[\"RSI\", \"UpperBollinger\", \"LowerBollinger\", \"DifferenceUpper\", \"DifferenceLower\", \"StochasticOscillator\", \"ShortEMA\", \"MACD\", \"CCI\"]][40:]\n",
    "    stockY = stock[\"Close\"][40:]\n",
    "\n",
    "    X = np.array(stockX)\n",
    "    y = np.array(stockY)\n",
    "    X = X[:-day_threshold]\n",
    "    y = y[day_threshold:]\n",
    "    \n",
    "    X_train, X_test, y_train, y_test = train_test_split(X, y, random_state=42, shuffle=False)\n",
    "\n",
    "    krr = KernelRidge(alpha=1.0)\n",
    "    krr.fit(X_train, y_train)\n",
    "\n",
    "    y_pred = krr.predict(X_test)\n",
    "\n",
    "    return y_pred, y_test, y_train"
   ]
  },
  {
   "cell_type": "markdown",
   "metadata": {},
   "source": [
    "<h1>Predictions and Plotting</h1>"
   ]
  },
  {
   "cell_type": "code",
   "execution_count": 21,
   "metadata": {},
   "outputs": [],
   "source": [
    "def switcher(stock, feature, day_threshold, model_name):\n",
    "    if model_name == \"KRR\":\n",
    "        return predict_kernel_ridge(stock, feature, day_threshold)\n",
    "    elif model_name == \"XGBOOST\":\n",
    "        return predict_xgboost(stock, feature, day_threshold)\n",
    "\n",
    "def predict_plot(stock, feature='close', day_threshold=5, model='KRR', confusion_matrix=False):\n",
    "    model_name = model.upper()\n",
    "\n",
    "    y_pred, y_test, y_train = switcher(stock, feature, day_threshold, model_name)\n",
    "    \n",
    "    y_pred = y_pred[day_threshold:]\n",
    "    y_test = y_test[:-day_threshold]\n",
    "    \n",
    "    predictUpDown = upOrDownNpArray(y_pred)\n",
    "    realUpDown = upOrDownNpArray(y_test)\n",
    "    \n",
    "    if confusion_matrix:\n",
    "        plt.figure(figsize = (10,8))\n",
    "\n",
    "        matrix = confusion_matrix(realUpDown, predictUpDown)\n",
    "        sns.heatmap(matrix, cmap='RdYlGn', center=0, annot=True)\n",
    "        \n",
    "        plt.xlabel('Prediction')\n",
    "        plt.ylabel('Actual Value')\n",
    "        plt.title('Confusion Matrix')\n",
    "        plt.show()\n",
    "\n",
    "    f_score = f1_score(realUpDown, predictUpDown)\n",
    "    precision = precision_score(realUpDown, predictUpDown)\n",
    "    accuracy = accuracy_score(realUpDown, predictUpDown)\n",
    "    mae = mean_absolute_error(y_test, y_pred)\n",
    "    mse = mean_squared_error(y_test, y_pred, squared=True)\n",
    "    rmse = mean_squared_error(y_test, y_pred, squared=False)\n",
    "\n",
    "    df = pd.DataFrame(y_pred, columns=['Prediction'])\n",
    "    df['Actual'] = y_test\n",
    "\n",
    "    fig = go.Figure()\n",
    "    fig.add_trace(go.Scatter(y=df[\"Prediction\"], name=\"Prediction\", mode=\"lines\"))\n",
    "    fig.add_trace(go.Scatter(y=df[\"Actual\"], name=\"Actual Value\", mode=\"markers\"))\n",
    "    fig.update_layout(\n",
    "        title=f\"Normalized Prediction for {model_name} with {day_threshold} Days of Threshold\", xaxis_title=\"Date\", yaxis_title=\"Close\"\n",
    "    )\n",
    "    fig.update_layout(go.Layout(\n",
    "        annotations=[\n",
    "            go.layout.Annotation(\n",
    "                text=f\"\"\"\n",
    "                    F1-Score: {\"{:.3f}\".format(f_score)} <br />\n",
    "                    Precision: {\"{:.3f}\".format(precision)} <br />\n",
    "                    Accuracy: {\"{:.3f}\".format(accuracy)} <br />\n",
    "                    MAE: {\"{:.3f}\".format(mae)} <br />\n",
    "                    MSE: {\"{:.3f}\".format(mse)} <br />\n",
    "                    RMSE: {\"{:.3f}\".format(rmse)} <br />\n",
    "                \"\"\",\n",
    "                align='left',\n",
    "                showarrow=False,\n",
    "                xref='paper',\n",
    "                yref='paper',\n",
    "                x=1.11,\n",
    "                y=0\n",
    "            )\n",
    "        ]\n",
    "    ))\n",
    "    fig.show()"
   ]
  },
  {
   "cell_type": "markdown",
   "metadata": {},
   "source": [
    "<h3>XGBoost Predictions</h3>"
   ]
  },
  {
   "cell_type": "code",
   "execution_count": 22,
   "metadata": {},
   "outputs": [
    {
     "data": {
      "application/vnd.plotly.v1+json": {
       "config": {
        "plotlyServerURL": "https://plot.ly"
       },
       "data": [
        {
         "mode": "lines",
         "name": "Prediction",
         "type": "scatter",
         "y": [
          36.116598306946834,
          35.31657392993629,
          38.5487590817585,
          38.9237294269337,
          35.77266292345851,
          39.410532188042474,
          40.85004602984495,
          41.46880721176429,
          41.63220020451065,
          41.65377567548533,
          41.65377567548533,
          41.741712401110284,
          41.63220020451065,
          41.638864718308,
          41.70157939515174,
          42.1604720421992,
          41.99578261991111,
          43.43036987531511,
          37.85950323014489,
          41.07640711985083,
          40.88438467343959,
          41.33127231686396,
          41.65090692082818,
          41.58075614555704,
          41.089649913940484,
          41.91856601992702,
          41.54142276866231,
          42.606787231131385,
          42.72312248126433,
          38.58905814532011,
          38.93615770244296,
          47.53928966580199,
          47.14262422456454,
          40.42435383179482,
          42.515146284002206,
          42.50811576637023,
          48.00648335097223,
          41.21601720310825,
          40.505308367663154,
          40.54787516790798,
          40.85661809081776,
          40.80945217687438,
          40.87159164040044,
          41.12645683741357,
          40.25648872966015,
          41.25213493070695,
          43.82092080797933,
          43.37410359509779,
          40.755968165927804,
          39.99712544100202,
          41.09220729374575,
          39.11064164268929,
          38.35119893909488,
          35.63643563852199,
          35.024417589628904,
          34.76510982705683,
          34.885906218709174,
          35.1674592514513,
          34.83311827548103,
          36.064052864099075,
          41.81599753762217,
          43.19251571750777,
          41.519645676153765,
          42.48353885127932,
          42.2165003641249,
          42.714066459949166,
          42.01253424976595,
          41.82352490708239,
          42.435457365156914,
          41.489918657331295,
          42.19501559492072,
          42.29813274861189,
          42.19501559492072,
          43.56827441840991,
          42.47138712435805,
          42.662069087479026,
          42.47138712435805,
          41.9588134187309,
          41.91948004183617
         ]
        },
        {
         "mode": "markers",
         "name": "Actual Value",
         "type": "scatter",
         "y": [
          44.55961576783267,
          43.965403469364844,
          46.778023796297475,
          43.73431531192267,
          40.822662960068214,
          33.771290626049634,
          36.18777277882651,
          37.534658690105516,
          40.433113488282686,
          38.82213546089989,
          38.48540642722878,
          44.09085075057811,
          39.9841548760125,
          39.317315734445884,
          42.460056243742486,
          45.00198567773265,
          45.00858445457129,
          46.51393168019365,
          46.39509325028746,
          39.91152803291368,
          42.45345746690384,
          40.9150962081514,
          41.819622283998854,
          44.11725593240112,
          43.938998287541835,
          41.9318619370664,
          44.23610443677575,
          46.93648511064083,
          46.92327748249511,
          47.52409863227001,
          49.19450594907437,
          53.74356165907153,
          53.41344147670753,
          50.54800071166045,
          51.30727310131027,
          51.83546740798636,
          53.20216979871816,
          52.007136350475434,
          49.87455271878673,
          50.528194306676085,
          49.841538685656644,
          52.05334793728281,
          51.30067432447163,
          50.59422237293626,
          53.99445622149807,
          54.40380202379953,
          50.68665562101944,
          51.91470310239225,
          56.00158249750504,
          56.034596530635156,
          54.27835474258623,
          56.01479012565079,
          58.035124029803484,
          62.07580191257739,
          61.85131253197383,
          61.48818839094821,
          60.86095198488184,
          61.46177313465674,
          62.2078479706293,
          64.914827421333,
          64.55170328030738,
          66.67766798622054,
          66.9417701767928,
          68.92249127097679,
          70.55328577781242,
          66.75029482931936,
          66.730488424335,
          70.36181043033898,
          75.02311586787212,
          76.13231484487031,
          75.88802913375085,
          75.9606459023812,
          77.4065739130505,
          77.87535907924195,
          79.23545261866664,
          79.07698122985482,
          80.73419099298192,
          79.52595999106194,
          81.58590670518336
         ]
        }
       ],
       "layout": {
        "annotations": [
         {
          "align": "left",
          "showarrow": false,
          "text": "\n                    F1-Score: 0.523 <br />\n                    Precision: 0.548 <br />\n                    Accuracy: 0.462 <br />\n                    MAE: 14.491 <br />\n                    MSE: 354.249 <br />\n                    RMSE: 18.822 <br />\n                ",
          "x": 1.11,
          "xref": "paper",
          "y": 0,
          "yref": "paper"
         }
        ],
        "template": {
         "data": {
          "bar": [
           {
            "error_x": {
             "color": "#2a3f5f"
            },
            "error_y": {
             "color": "#2a3f5f"
            },
            "marker": {
             "line": {
              "color": "#E5ECF6",
              "width": 0.5
             },
             "pattern": {
              "fillmode": "overlay",
              "size": 10,
              "solidity": 0.2
             }
            },
            "type": "bar"
           }
          ],
          "barpolar": [
           {
            "marker": {
             "line": {
              "color": "#E5ECF6",
              "width": 0.5
             },
             "pattern": {
              "fillmode": "overlay",
              "size": 10,
              "solidity": 0.2
             }
            },
            "type": "barpolar"
           }
          ],
          "carpet": [
           {
            "aaxis": {
             "endlinecolor": "#2a3f5f",
             "gridcolor": "white",
             "linecolor": "white",
             "minorgridcolor": "white",
             "startlinecolor": "#2a3f5f"
            },
            "baxis": {
             "endlinecolor": "#2a3f5f",
             "gridcolor": "white",
             "linecolor": "white",
             "minorgridcolor": "white",
             "startlinecolor": "#2a3f5f"
            },
            "type": "carpet"
           }
          ],
          "choropleth": [
           {
            "colorbar": {
             "outlinewidth": 0,
             "ticks": ""
            },
            "type": "choropleth"
           }
          ],
          "contour": [
           {
            "colorbar": {
             "outlinewidth": 0,
             "ticks": ""
            },
            "colorscale": [
             [
              0,
              "#0d0887"
             ],
             [
              0.1111111111111111,
              "#46039f"
             ],
             [
              0.2222222222222222,
              "#7201a8"
             ],
             [
              0.3333333333333333,
              "#9c179e"
             ],
             [
              0.4444444444444444,
              "#bd3786"
             ],
             [
              0.5555555555555556,
              "#d8576b"
             ],
             [
              0.6666666666666666,
              "#ed7953"
             ],
             [
              0.7777777777777778,
              "#fb9f3a"
             ],
             [
              0.8888888888888888,
              "#fdca26"
             ],
             [
              1,
              "#f0f921"
             ]
            ],
            "type": "contour"
           }
          ],
          "contourcarpet": [
           {
            "colorbar": {
             "outlinewidth": 0,
             "ticks": ""
            },
            "type": "contourcarpet"
           }
          ],
          "heatmap": [
           {
            "colorbar": {
             "outlinewidth": 0,
             "ticks": ""
            },
            "colorscale": [
             [
              0,
              "#0d0887"
             ],
             [
              0.1111111111111111,
              "#46039f"
             ],
             [
              0.2222222222222222,
              "#7201a8"
             ],
             [
              0.3333333333333333,
              "#9c179e"
             ],
             [
              0.4444444444444444,
              "#bd3786"
             ],
             [
              0.5555555555555556,
              "#d8576b"
             ],
             [
              0.6666666666666666,
              "#ed7953"
             ],
             [
              0.7777777777777778,
              "#fb9f3a"
             ],
             [
              0.8888888888888888,
              "#fdca26"
             ],
             [
              1,
              "#f0f921"
             ]
            ],
            "type": "heatmap"
           }
          ],
          "heatmapgl": [
           {
            "colorbar": {
             "outlinewidth": 0,
             "ticks": ""
            },
            "colorscale": [
             [
              0,
              "#0d0887"
             ],
             [
              0.1111111111111111,
              "#46039f"
             ],
             [
              0.2222222222222222,
              "#7201a8"
             ],
             [
              0.3333333333333333,
              "#9c179e"
             ],
             [
              0.4444444444444444,
              "#bd3786"
             ],
             [
              0.5555555555555556,
              "#d8576b"
             ],
             [
              0.6666666666666666,
              "#ed7953"
             ],
             [
              0.7777777777777778,
              "#fb9f3a"
             ],
             [
              0.8888888888888888,
              "#fdca26"
             ],
             [
              1,
              "#f0f921"
             ]
            ],
            "type": "heatmapgl"
           }
          ],
          "histogram": [
           {
            "marker": {
             "pattern": {
              "fillmode": "overlay",
              "size": 10,
              "solidity": 0.2
             }
            },
            "type": "histogram"
           }
          ],
          "histogram2d": [
           {
            "colorbar": {
             "outlinewidth": 0,
             "ticks": ""
            },
            "colorscale": [
             [
              0,
              "#0d0887"
             ],
             [
              0.1111111111111111,
              "#46039f"
             ],
             [
              0.2222222222222222,
              "#7201a8"
             ],
             [
              0.3333333333333333,
              "#9c179e"
             ],
             [
              0.4444444444444444,
              "#bd3786"
             ],
             [
              0.5555555555555556,
              "#d8576b"
             ],
             [
              0.6666666666666666,
              "#ed7953"
             ],
             [
              0.7777777777777778,
              "#fb9f3a"
             ],
             [
              0.8888888888888888,
              "#fdca26"
             ],
             [
              1,
              "#f0f921"
             ]
            ],
            "type": "histogram2d"
           }
          ],
          "histogram2dcontour": [
           {
            "colorbar": {
             "outlinewidth": 0,
             "ticks": ""
            },
            "colorscale": [
             [
              0,
              "#0d0887"
             ],
             [
              0.1111111111111111,
              "#46039f"
             ],
             [
              0.2222222222222222,
              "#7201a8"
             ],
             [
              0.3333333333333333,
              "#9c179e"
             ],
             [
              0.4444444444444444,
              "#bd3786"
             ],
             [
              0.5555555555555556,
              "#d8576b"
             ],
             [
              0.6666666666666666,
              "#ed7953"
             ],
             [
              0.7777777777777778,
              "#fb9f3a"
             ],
             [
              0.8888888888888888,
              "#fdca26"
             ],
             [
              1,
              "#f0f921"
             ]
            ],
            "type": "histogram2dcontour"
           }
          ],
          "mesh3d": [
           {
            "colorbar": {
             "outlinewidth": 0,
             "ticks": ""
            },
            "type": "mesh3d"
           }
          ],
          "parcoords": [
           {
            "line": {
             "colorbar": {
              "outlinewidth": 0,
              "ticks": ""
             }
            },
            "type": "parcoords"
           }
          ],
          "pie": [
           {
            "automargin": true,
            "type": "pie"
           }
          ],
          "scatter": [
           {
            "fillpattern": {
             "fillmode": "overlay",
             "size": 10,
             "solidity": 0.2
            },
            "type": "scatter"
           }
          ],
          "scatter3d": [
           {
            "line": {
             "colorbar": {
              "outlinewidth": 0,
              "ticks": ""
             }
            },
            "marker": {
             "colorbar": {
              "outlinewidth": 0,
              "ticks": ""
             }
            },
            "type": "scatter3d"
           }
          ],
          "scattercarpet": [
           {
            "marker": {
             "colorbar": {
              "outlinewidth": 0,
              "ticks": ""
             }
            },
            "type": "scattercarpet"
           }
          ],
          "scattergeo": [
           {
            "marker": {
             "colorbar": {
              "outlinewidth": 0,
              "ticks": ""
             }
            },
            "type": "scattergeo"
           }
          ],
          "scattergl": [
           {
            "marker": {
             "colorbar": {
              "outlinewidth": 0,
              "ticks": ""
             }
            },
            "type": "scattergl"
           }
          ],
          "scattermapbox": [
           {
            "marker": {
             "colorbar": {
              "outlinewidth": 0,
              "ticks": ""
             }
            },
            "type": "scattermapbox"
           }
          ],
          "scatterpolar": [
           {
            "marker": {
             "colorbar": {
              "outlinewidth": 0,
              "ticks": ""
             }
            },
            "type": "scatterpolar"
           }
          ],
          "scatterpolargl": [
           {
            "marker": {
             "colorbar": {
              "outlinewidth": 0,
              "ticks": ""
             }
            },
            "type": "scatterpolargl"
           }
          ],
          "scatterternary": [
           {
            "marker": {
             "colorbar": {
              "outlinewidth": 0,
              "ticks": ""
             }
            },
            "type": "scatterternary"
           }
          ],
          "surface": [
           {
            "colorbar": {
             "outlinewidth": 0,
             "ticks": ""
            },
            "colorscale": [
             [
              0,
              "#0d0887"
             ],
             [
              0.1111111111111111,
              "#46039f"
             ],
             [
              0.2222222222222222,
              "#7201a8"
             ],
             [
              0.3333333333333333,
              "#9c179e"
             ],
             [
              0.4444444444444444,
              "#bd3786"
             ],
             [
              0.5555555555555556,
              "#d8576b"
             ],
             [
              0.6666666666666666,
              "#ed7953"
             ],
             [
              0.7777777777777778,
              "#fb9f3a"
             ],
             [
              0.8888888888888888,
              "#fdca26"
             ],
             [
              1,
              "#f0f921"
             ]
            ],
            "type": "surface"
           }
          ],
          "table": [
           {
            "cells": {
             "fill": {
              "color": "#EBF0F8"
             },
             "line": {
              "color": "white"
             }
            },
            "header": {
             "fill": {
              "color": "#C8D4E3"
             },
             "line": {
              "color": "white"
             }
            },
            "type": "table"
           }
          ]
         },
         "layout": {
          "annotationdefaults": {
           "arrowcolor": "#2a3f5f",
           "arrowhead": 0,
           "arrowwidth": 1
          },
          "autotypenumbers": "strict",
          "coloraxis": {
           "colorbar": {
            "outlinewidth": 0,
            "ticks": ""
           }
          },
          "colorscale": {
           "diverging": [
            [
             0,
             "#8e0152"
            ],
            [
             0.1,
             "#c51b7d"
            ],
            [
             0.2,
             "#de77ae"
            ],
            [
             0.3,
             "#f1b6da"
            ],
            [
             0.4,
             "#fde0ef"
            ],
            [
             0.5,
             "#f7f7f7"
            ],
            [
             0.6,
             "#e6f5d0"
            ],
            [
             0.7,
             "#b8e186"
            ],
            [
             0.8,
             "#7fbc41"
            ],
            [
             0.9,
             "#4d9221"
            ],
            [
             1,
             "#276419"
            ]
           ],
           "sequential": [
            [
             0,
             "#0d0887"
            ],
            [
             0.1111111111111111,
             "#46039f"
            ],
            [
             0.2222222222222222,
             "#7201a8"
            ],
            [
             0.3333333333333333,
             "#9c179e"
            ],
            [
             0.4444444444444444,
             "#bd3786"
            ],
            [
             0.5555555555555556,
             "#d8576b"
            ],
            [
             0.6666666666666666,
             "#ed7953"
            ],
            [
             0.7777777777777778,
             "#fb9f3a"
            ],
            [
             0.8888888888888888,
             "#fdca26"
            ],
            [
             1,
             "#f0f921"
            ]
           ],
           "sequentialminus": [
            [
             0,
             "#0d0887"
            ],
            [
             0.1111111111111111,
             "#46039f"
            ],
            [
             0.2222222222222222,
             "#7201a8"
            ],
            [
             0.3333333333333333,
             "#9c179e"
            ],
            [
             0.4444444444444444,
             "#bd3786"
            ],
            [
             0.5555555555555556,
             "#d8576b"
            ],
            [
             0.6666666666666666,
             "#ed7953"
            ],
            [
             0.7777777777777778,
             "#fb9f3a"
            ],
            [
             0.8888888888888888,
             "#fdca26"
            ],
            [
             1,
             "#f0f921"
            ]
           ]
          },
          "colorway": [
           "#636efa",
           "#EF553B",
           "#00cc96",
           "#ab63fa",
           "#FFA15A",
           "#19d3f3",
           "#FF6692",
           "#B6E880",
           "#FF97FF",
           "#FECB52"
          ],
          "font": {
           "color": "#2a3f5f"
          },
          "geo": {
           "bgcolor": "white",
           "lakecolor": "white",
           "landcolor": "#E5ECF6",
           "showlakes": true,
           "showland": true,
           "subunitcolor": "white"
          },
          "hoverlabel": {
           "align": "left"
          },
          "hovermode": "closest",
          "mapbox": {
           "style": "light"
          },
          "paper_bgcolor": "white",
          "plot_bgcolor": "#E5ECF6",
          "polar": {
           "angularaxis": {
            "gridcolor": "white",
            "linecolor": "white",
            "ticks": ""
           },
           "bgcolor": "#E5ECF6",
           "radialaxis": {
            "gridcolor": "white",
            "linecolor": "white",
            "ticks": ""
           }
          },
          "scene": {
           "xaxis": {
            "backgroundcolor": "#E5ECF6",
            "gridcolor": "white",
            "gridwidth": 2,
            "linecolor": "white",
            "showbackground": true,
            "ticks": "",
            "zerolinecolor": "white"
           },
           "yaxis": {
            "backgroundcolor": "#E5ECF6",
            "gridcolor": "white",
            "gridwidth": 2,
            "linecolor": "white",
            "showbackground": true,
            "ticks": "",
            "zerolinecolor": "white"
           },
           "zaxis": {
            "backgroundcolor": "#E5ECF6",
            "gridcolor": "white",
            "gridwidth": 2,
            "linecolor": "white",
            "showbackground": true,
            "ticks": "",
            "zerolinecolor": "white"
           }
          },
          "shapedefaults": {
           "line": {
            "color": "#2a3f5f"
           }
          },
          "ternary": {
           "aaxis": {
            "gridcolor": "white",
            "linecolor": "white",
            "ticks": ""
           },
           "baxis": {
            "gridcolor": "white",
            "linecolor": "white",
            "ticks": ""
           },
           "bgcolor": "#E5ECF6",
           "caxis": {
            "gridcolor": "white",
            "linecolor": "white",
            "ticks": ""
           }
          },
          "title": {
           "x": 0.05
          },
          "xaxis": {
           "automargin": true,
           "gridcolor": "white",
           "linecolor": "white",
           "ticks": "",
           "title": {
            "standoff": 15
           },
           "zerolinecolor": "white",
           "zerolinewidth": 2
          },
          "yaxis": {
           "automargin": true,
           "gridcolor": "white",
           "linecolor": "white",
           "ticks": "",
           "title": {
            "standoff": 15
           },
           "zerolinecolor": "white",
           "zerolinewidth": 2
          }
         }
        },
        "title": {
         "text": "Normalized Prediction for XGBOOST with 30 Days of Threshold"
        },
        "xaxis": {
         "title": {
          "text": "Date"
         }
        },
        "yaxis": {
         "title": {
          "text": "Close"
         }
        }
       }
      }
     },
     "metadata": {},
     "output_type": "display_data"
    }
   ],
   "source": [
    "predict_plot(stocks[0], day_threshold=30, model='xgboost')"
   ]
  },
  {
   "cell_type": "markdown",
   "metadata": {},
   "source": [
    "<h3>KRR Predictions</h3>"
   ]
  },
  {
   "cell_type": "code",
   "execution_count": 23,
   "metadata": {},
   "outputs": [
    {
     "data": {
      "application/vnd.plotly.v1+json": {
       "config": {
        "plotlyServerURL": "https://plot.ly"
       },
       "data": [
        {
         "mode": "lines",
         "name": "Prediction",
         "type": "scatter",
         "y": [
          42.547192591940984,
          39.610290539683774,
          44.20263381837867,
          36.95358619693434,
          30.31547603092622,
          25.01801444715238,
          29.404062399000395,
          30.006180137890624,
          35.07618961413391,
          31.31104174486245,
          29.916584833263187,
          35.087959483789746,
          32.63005412265193,
          31.348365966317942,
          33.05993073142599,
          34.95481169747654,
          32.27160514192656,
          34.352369899861515,
          35.40855216025375,
          34.50005078210961,
          34.342861652199645,
          31.73793566832319,
          29.674322852515616,
          33.16141802899074,
          33.289642295683734,
          28.0199507335783,
          35.63466057239566,
          40.03092197398655,
          37.55725782306399,
          35.794981633662246,
          37.43137069430668,
          38.773574448772706,
          37.89910504745785,
          41.13849105150439,
          39.89577531989198,
          42.279707025620155,
          42.19672250864096,
          38.599837577319704,
          35.535006708232686,
          39.78464289580006,
          37.877970202767756,
          38.580207578022964,
          38.50434024143033,
          37.51702115335502,
          40.227059130440466,
          37.07504252786748,
          32.841547793126665,
          37.99552321631927,
          42.69754109776113,
          42.197667281725444,
          38.46682234609034,
          40.70741849334445,
          44.317866106750444,
          45.39787519862875,
          44.91403713822365,
          42.34744595643133,
          41.54368715558667,
          42.650297849439085,
          41.364162686048076,
          42.71314286184497,
          48.51087310607545,
          48.546035825042054,
          46.96510463987943,
          47.991749118315056,
          51.80057142768055,
          44.16474052541889,
          44.0228144681314,
          44.737264692783356,
          47.400983402039856,
          48.153188540250994,
          49.223079596762545,
          49.47732536285184,
          49.97987882304005,
          48.752686382853426,
          49.73399180790875,
          49.003167217364535,
          49.974205491365865,
          48.02997452404816,
          48.91024132317398
         ]
        },
        {
         "mode": "markers",
         "name": "Actual Value",
         "type": "scatter",
         "y": [
          44.55961576783267,
          43.965403469364844,
          46.778023796297475,
          43.73431531192267,
          40.822662960068214,
          33.771290626049634,
          36.18777277882651,
          37.534658690105516,
          40.433113488282686,
          38.82213546089989,
          38.48540642722878,
          44.09085075057811,
          39.9841548760125,
          39.317315734445884,
          42.460056243742486,
          45.00198567773265,
          45.00858445457129,
          46.51393168019365,
          46.39509325028746,
          39.91152803291368,
          42.45345746690384,
          40.9150962081514,
          41.819622283998854,
          44.11725593240112,
          43.938998287541835,
          41.9318619370664,
          44.23610443677575,
          46.93648511064083,
          46.92327748249511,
          47.52409863227001,
          49.19450594907437,
          53.74356165907153,
          53.41344147670753,
          50.54800071166045,
          51.30727310131027,
          51.83546740798636,
          53.20216979871816,
          52.007136350475434,
          49.87455271878673,
          50.528194306676085,
          49.841538685656644,
          52.05334793728281,
          51.30067432447163,
          50.59422237293626,
          53.99445622149807,
          54.40380202379953,
          50.68665562101944,
          51.91470310239225,
          56.00158249750504,
          56.034596530635156,
          54.27835474258623,
          56.01479012565079,
          58.035124029803484,
          62.07580191257739,
          61.85131253197383,
          61.48818839094821,
          60.86095198488184,
          61.46177313465674,
          62.2078479706293,
          64.914827421333,
          64.55170328030738,
          66.67766798622054,
          66.9417701767928,
          68.92249127097679,
          70.55328577781242,
          66.75029482931936,
          66.730488424335,
          70.36181043033898,
          75.02311586787212,
          76.13231484487031,
          75.88802913375085,
          75.9606459023812,
          77.4065739130505,
          77.87535907924195,
          79.23545261866664,
          79.07698122985482,
          80.73419099298192,
          79.52595999106194,
          81.58590670518336
         ]
        }
       ],
       "layout": {
        "annotations": [
         {
          "align": "left",
          "showarrow": false,
          "text": "\n                    F1-Score: 0.814 <br />\n                    Precision: 0.875 <br />\n                    Accuracy: 0.795 <br />\n                    MAE: 14.989 <br />\n                    MSE: 279.281 <br />\n                    RMSE: 16.712 <br />\n                ",
          "x": 1.11,
          "xref": "paper",
          "y": 0,
          "yref": "paper"
         }
        ],
        "template": {
         "data": {
          "bar": [
           {
            "error_x": {
             "color": "#2a3f5f"
            },
            "error_y": {
             "color": "#2a3f5f"
            },
            "marker": {
             "line": {
              "color": "#E5ECF6",
              "width": 0.5
             },
             "pattern": {
              "fillmode": "overlay",
              "size": 10,
              "solidity": 0.2
             }
            },
            "type": "bar"
           }
          ],
          "barpolar": [
           {
            "marker": {
             "line": {
              "color": "#E5ECF6",
              "width": 0.5
             },
             "pattern": {
              "fillmode": "overlay",
              "size": 10,
              "solidity": 0.2
             }
            },
            "type": "barpolar"
           }
          ],
          "carpet": [
           {
            "aaxis": {
             "endlinecolor": "#2a3f5f",
             "gridcolor": "white",
             "linecolor": "white",
             "minorgridcolor": "white",
             "startlinecolor": "#2a3f5f"
            },
            "baxis": {
             "endlinecolor": "#2a3f5f",
             "gridcolor": "white",
             "linecolor": "white",
             "minorgridcolor": "white",
             "startlinecolor": "#2a3f5f"
            },
            "type": "carpet"
           }
          ],
          "choropleth": [
           {
            "colorbar": {
             "outlinewidth": 0,
             "ticks": ""
            },
            "type": "choropleth"
           }
          ],
          "contour": [
           {
            "colorbar": {
             "outlinewidth": 0,
             "ticks": ""
            },
            "colorscale": [
             [
              0,
              "#0d0887"
             ],
             [
              0.1111111111111111,
              "#46039f"
             ],
             [
              0.2222222222222222,
              "#7201a8"
             ],
             [
              0.3333333333333333,
              "#9c179e"
             ],
             [
              0.4444444444444444,
              "#bd3786"
             ],
             [
              0.5555555555555556,
              "#d8576b"
             ],
             [
              0.6666666666666666,
              "#ed7953"
             ],
             [
              0.7777777777777778,
              "#fb9f3a"
             ],
             [
              0.8888888888888888,
              "#fdca26"
             ],
             [
              1,
              "#f0f921"
             ]
            ],
            "type": "contour"
           }
          ],
          "contourcarpet": [
           {
            "colorbar": {
             "outlinewidth": 0,
             "ticks": ""
            },
            "type": "contourcarpet"
           }
          ],
          "heatmap": [
           {
            "colorbar": {
             "outlinewidth": 0,
             "ticks": ""
            },
            "colorscale": [
             [
              0,
              "#0d0887"
             ],
             [
              0.1111111111111111,
              "#46039f"
             ],
             [
              0.2222222222222222,
              "#7201a8"
             ],
             [
              0.3333333333333333,
              "#9c179e"
             ],
             [
              0.4444444444444444,
              "#bd3786"
             ],
             [
              0.5555555555555556,
              "#d8576b"
             ],
             [
              0.6666666666666666,
              "#ed7953"
             ],
             [
              0.7777777777777778,
              "#fb9f3a"
             ],
             [
              0.8888888888888888,
              "#fdca26"
             ],
             [
              1,
              "#f0f921"
             ]
            ],
            "type": "heatmap"
           }
          ],
          "heatmapgl": [
           {
            "colorbar": {
             "outlinewidth": 0,
             "ticks": ""
            },
            "colorscale": [
             [
              0,
              "#0d0887"
             ],
             [
              0.1111111111111111,
              "#46039f"
             ],
             [
              0.2222222222222222,
              "#7201a8"
             ],
             [
              0.3333333333333333,
              "#9c179e"
             ],
             [
              0.4444444444444444,
              "#bd3786"
             ],
             [
              0.5555555555555556,
              "#d8576b"
             ],
             [
              0.6666666666666666,
              "#ed7953"
             ],
             [
              0.7777777777777778,
              "#fb9f3a"
             ],
             [
              0.8888888888888888,
              "#fdca26"
             ],
             [
              1,
              "#f0f921"
             ]
            ],
            "type": "heatmapgl"
           }
          ],
          "histogram": [
           {
            "marker": {
             "pattern": {
              "fillmode": "overlay",
              "size": 10,
              "solidity": 0.2
             }
            },
            "type": "histogram"
           }
          ],
          "histogram2d": [
           {
            "colorbar": {
             "outlinewidth": 0,
             "ticks": ""
            },
            "colorscale": [
             [
              0,
              "#0d0887"
             ],
             [
              0.1111111111111111,
              "#46039f"
             ],
             [
              0.2222222222222222,
              "#7201a8"
             ],
             [
              0.3333333333333333,
              "#9c179e"
             ],
             [
              0.4444444444444444,
              "#bd3786"
             ],
             [
              0.5555555555555556,
              "#d8576b"
             ],
             [
              0.6666666666666666,
              "#ed7953"
             ],
             [
              0.7777777777777778,
              "#fb9f3a"
             ],
             [
              0.8888888888888888,
              "#fdca26"
             ],
             [
              1,
              "#f0f921"
             ]
            ],
            "type": "histogram2d"
           }
          ],
          "histogram2dcontour": [
           {
            "colorbar": {
             "outlinewidth": 0,
             "ticks": ""
            },
            "colorscale": [
             [
              0,
              "#0d0887"
             ],
             [
              0.1111111111111111,
              "#46039f"
             ],
             [
              0.2222222222222222,
              "#7201a8"
             ],
             [
              0.3333333333333333,
              "#9c179e"
             ],
             [
              0.4444444444444444,
              "#bd3786"
             ],
             [
              0.5555555555555556,
              "#d8576b"
             ],
             [
              0.6666666666666666,
              "#ed7953"
             ],
             [
              0.7777777777777778,
              "#fb9f3a"
             ],
             [
              0.8888888888888888,
              "#fdca26"
             ],
             [
              1,
              "#f0f921"
             ]
            ],
            "type": "histogram2dcontour"
           }
          ],
          "mesh3d": [
           {
            "colorbar": {
             "outlinewidth": 0,
             "ticks": ""
            },
            "type": "mesh3d"
           }
          ],
          "parcoords": [
           {
            "line": {
             "colorbar": {
              "outlinewidth": 0,
              "ticks": ""
             }
            },
            "type": "parcoords"
           }
          ],
          "pie": [
           {
            "automargin": true,
            "type": "pie"
           }
          ],
          "scatter": [
           {
            "fillpattern": {
             "fillmode": "overlay",
             "size": 10,
             "solidity": 0.2
            },
            "type": "scatter"
           }
          ],
          "scatter3d": [
           {
            "line": {
             "colorbar": {
              "outlinewidth": 0,
              "ticks": ""
             }
            },
            "marker": {
             "colorbar": {
              "outlinewidth": 0,
              "ticks": ""
             }
            },
            "type": "scatter3d"
           }
          ],
          "scattercarpet": [
           {
            "marker": {
             "colorbar": {
              "outlinewidth": 0,
              "ticks": ""
             }
            },
            "type": "scattercarpet"
           }
          ],
          "scattergeo": [
           {
            "marker": {
             "colorbar": {
              "outlinewidth": 0,
              "ticks": ""
             }
            },
            "type": "scattergeo"
           }
          ],
          "scattergl": [
           {
            "marker": {
             "colorbar": {
              "outlinewidth": 0,
              "ticks": ""
             }
            },
            "type": "scattergl"
           }
          ],
          "scattermapbox": [
           {
            "marker": {
             "colorbar": {
              "outlinewidth": 0,
              "ticks": ""
             }
            },
            "type": "scattermapbox"
           }
          ],
          "scatterpolar": [
           {
            "marker": {
             "colorbar": {
              "outlinewidth": 0,
              "ticks": ""
             }
            },
            "type": "scatterpolar"
           }
          ],
          "scatterpolargl": [
           {
            "marker": {
             "colorbar": {
              "outlinewidth": 0,
              "ticks": ""
             }
            },
            "type": "scatterpolargl"
           }
          ],
          "scatterternary": [
           {
            "marker": {
             "colorbar": {
              "outlinewidth": 0,
              "ticks": ""
             }
            },
            "type": "scatterternary"
           }
          ],
          "surface": [
           {
            "colorbar": {
             "outlinewidth": 0,
             "ticks": ""
            },
            "colorscale": [
             [
              0,
              "#0d0887"
             ],
             [
              0.1111111111111111,
              "#46039f"
             ],
             [
              0.2222222222222222,
              "#7201a8"
             ],
             [
              0.3333333333333333,
              "#9c179e"
             ],
             [
              0.4444444444444444,
              "#bd3786"
             ],
             [
              0.5555555555555556,
              "#d8576b"
             ],
             [
              0.6666666666666666,
              "#ed7953"
             ],
             [
              0.7777777777777778,
              "#fb9f3a"
             ],
             [
              0.8888888888888888,
              "#fdca26"
             ],
             [
              1,
              "#f0f921"
             ]
            ],
            "type": "surface"
           }
          ],
          "table": [
           {
            "cells": {
             "fill": {
              "color": "#EBF0F8"
             },
             "line": {
              "color": "white"
             }
            },
            "header": {
             "fill": {
              "color": "#C8D4E3"
             },
             "line": {
              "color": "white"
             }
            },
            "type": "table"
           }
          ]
         },
         "layout": {
          "annotationdefaults": {
           "arrowcolor": "#2a3f5f",
           "arrowhead": 0,
           "arrowwidth": 1
          },
          "autotypenumbers": "strict",
          "coloraxis": {
           "colorbar": {
            "outlinewidth": 0,
            "ticks": ""
           }
          },
          "colorscale": {
           "diverging": [
            [
             0,
             "#8e0152"
            ],
            [
             0.1,
             "#c51b7d"
            ],
            [
             0.2,
             "#de77ae"
            ],
            [
             0.3,
             "#f1b6da"
            ],
            [
             0.4,
             "#fde0ef"
            ],
            [
             0.5,
             "#f7f7f7"
            ],
            [
             0.6,
             "#e6f5d0"
            ],
            [
             0.7,
             "#b8e186"
            ],
            [
             0.8,
             "#7fbc41"
            ],
            [
             0.9,
             "#4d9221"
            ],
            [
             1,
             "#276419"
            ]
           ],
           "sequential": [
            [
             0,
             "#0d0887"
            ],
            [
             0.1111111111111111,
             "#46039f"
            ],
            [
             0.2222222222222222,
             "#7201a8"
            ],
            [
             0.3333333333333333,
             "#9c179e"
            ],
            [
             0.4444444444444444,
             "#bd3786"
            ],
            [
             0.5555555555555556,
             "#d8576b"
            ],
            [
             0.6666666666666666,
             "#ed7953"
            ],
            [
             0.7777777777777778,
             "#fb9f3a"
            ],
            [
             0.8888888888888888,
             "#fdca26"
            ],
            [
             1,
             "#f0f921"
            ]
           ],
           "sequentialminus": [
            [
             0,
             "#0d0887"
            ],
            [
             0.1111111111111111,
             "#46039f"
            ],
            [
             0.2222222222222222,
             "#7201a8"
            ],
            [
             0.3333333333333333,
             "#9c179e"
            ],
            [
             0.4444444444444444,
             "#bd3786"
            ],
            [
             0.5555555555555556,
             "#d8576b"
            ],
            [
             0.6666666666666666,
             "#ed7953"
            ],
            [
             0.7777777777777778,
             "#fb9f3a"
            ],
            [
             0.8888888888888888,
             "#fdca26"
            ],
            [
             1,
             "#f0f921"
            ]
           ]
          },
          "colorway": [
           "#636efa",
           "#EF553B",
           "#00cc96",
           "#ab63fa",
           "#FFA15A",
           "#19d3f3",
           "#FF6692",
           "#B6E880",
           "#FF97FF",
           "#FECB52"
          ],
          "font": {
           "color": "#2a3f5f"
          },
          "geo": {
           "bgcolor": "white",
           "lakecolor": "white",
           "landcolor": "#E5ECF6",
           "showlakes": true,
           "showland": true,
           "subunitcolor": "white"
          },
          "hoverlabel": {
           "align": "left"
          },
          "hovermode": "closest",
          "mapbox": {
           "style": "light"
          },
          "paper_bgcolor": "white",
          "plot_bgcolor": "#E5ECF6",
          "polar": {
           "angularaxis": {
            "gridcolor": "white",
            "linecolor": "white",
            "ticks": ""
           },
           "bgcolor": "#E5ECF6",
           "radialaxis": {
            "gridcolor": "white",
            "linecolor": "white",
            "ticks": ""
           }
          },
          "scene": {
           "xaxis": {
            "backgroundcolor": "#E5ECF6",
            "gridcolor": "white",
            "gridwidth": 2,
            "linecolor": "white",
            "showbackground": true,
            "ticks": "",
            "zerolinecolor": "white"
           },
           "yaxis": {
            "backgroundcolor": "#E5ECF6",
            "gridcolor": "white",
            "gridwidth": 2,
            "linecolor": "white",
            "showbackground": true,
            "ticks": "",
            "zerolinecolor": "white"
           },
           "zaxis": {
            "backgroundcolor": "#E5ECF6",
            "gridcolor": "white",
            "gridwidth": 2,
            "linecolor": "white",
            "showbackground": true,
            "ticks": "",
            "zerolinecolor": "white"
           }
          },
          "shapedefaults": {
           "line": {
            "color": "#2a3f5f"
           }
          },
          "ternary": {
           "aaxis": {
            "gridcolor": "white",
            "linecolor": "white",
            "ticks": ""
           },
           "baxis": {
            "gridcolor": "white",
            "linecolor": "white",
            "ticks": ""
           },
           "bgcolor": "#E5ECF6",
           "caxis": {
            "gridcolor": "white",
            "linecolor": "white",
            "ticks": ""
           }
          },
          "title": {
           "x": 0.05
          },
          "xaxis": {
           "automargin": true,
           "gridcolor": "white",
           "linecolor": "white",
           "ticks": "",
           "title": {
            "standoff": 15
           },
           "zerolinecolor": "white",
           "zerolinewidth": 2
          },
          "yaxis": {
           "automargin": true,
           "gridcolor": "white",
           "linecolor": "white",
           "ticks": "",
           "title": {
            "standoff": 15
           },
           "zerolinecolor": "white",
           "zerolinewidth": 2
          }
         }
        },
        "title": {
         "text": "Normalized Prediction for KRR with 30 Days of Threshold"
        },
        "xaxis": {
         "title": {
          "text": "Date"
         }
        },
        "yaxis": {
         "title": {
          "text": "Close"
         }
        }
       }
      }
     },
     "metadata": {},
     "output_type": "display_data"
    }
   ],
   "source": [
    "predict_plot(stocks[0], day_threshold=30, model='krr')"
   ]
  },
  {
   "cell_type": "code",
   "execution_count": null,
   "metadata": {},
   "outputs": [],
   "source": []
  }
 ],
 "metadata": {
  "kernelspec": {
   "display_name": "Python 3.8.9 64-bit",
   "language": "python",
   "name": "python3"
  },
  "language_info": {
   "codemirror_mode": {
    "name": "ipython",
    "version": 3
   },
   "file_extension": ".py",
   "mimetype": "text/x-python",
   "name": "python",
   "nbconvert_exporter": "python",
   "pygments_lexer": "ipython3",
   "version": "3.8.9"
  },
  "orig_nbformat": 4,
  "vscode": {
   "interpreter": {
    "hash": "31f2aee4e71d21fbe5cf8b01ff0e069b9275f58929596ceb00d14d90e3e16cd6"
   }
  }
 },
 "nbformat": 4,
 "nbformat_minor": 2
}
